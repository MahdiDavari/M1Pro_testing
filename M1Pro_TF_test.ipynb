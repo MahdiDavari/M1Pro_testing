{
 "cells": [
  {
   "cell_type": "code",
   "execution_count": 20,
   "id": "c1e48f06-24fd-4f73-9ac3-42a10b8ef161",
   "metadata": {},
   "outputs": [
    {
     "name": "stdout",
     "output_type": "stream",
     "text": [
      "TensorFlow version: 2.7.0\n",
      "Num GPUs Available:  1\n"
     ]
    },
    {
     "data": {
      "text/plain": [
       "[PhysicalDevice(name='/physical_device:GPU:0', device_type='GPU')]"
      ]
     },
     "execution_count": 20,
     "metadata": {},
     "output_type": "execute_result"
    }
   ],
   "source": [
    "# import tensorflow to see if GPU is connected\n",
    "import tensorflow as tf\n",
    "import tensorflow_datasets as tfds\n",
    "import os\n",
    "print(\"TensorFlow version:\", tf.__version__)\n",
    "print(\"Num GPUs Available: \", len(tf.config.experimental.list_physical_devices('GPU')))\n",
    "data_dir = os.getcwd()\n",
    "tf.config.list_physical_devices('GPU')"
   ]
  },
  {
   "cell_type": "code",
   "execution_count": 21,
   "id": "6dc102e0-e9e0-4850-8f08-3ac0d51d06f5",
   "metadata": {},
   "outputs": [],
   "source": [
    "# loading the MINIST data sets\n",
    "(ds_train, ds_test), ds_info = tfds.load(\n",
    "    'mnist',\n",
    "    split=['train', 'test'],\n",
    "    data_dir=data_dir,\n",
    "    shuffle_files=True,\n",
    "    as_supervised=True,\n",
    "    with_info=True,\n",
    ")"
   ]
  },
  {
   "cell_type": "code",
   "execution_count": 22,
   "id": "2302c0a5-ffee-40b2-bae8-dbe335dc25f1",
   "metadata": {},
   "outputs": [
    {
     "name": "stdout",
     "output_type": "stream",
     "text": [
      "Epoch 1/12\n"
     ]
    },
    {
     "name": "stderr",
     "output_type": "stream",
     "text": [
      "2022-01-09 18:51:57.778998: I tensorflow/core/grappler/optimizers/custom_graph_optimizer_registry.cc:112] Plugin optimizer for device_type GPU is enabled.\n"
     ]
    },
    {
     "name": "stdout",
     "output_type": "stream",
     "text": [
      "468/469 [============================>.] - ETA: 0s - loss: 0.1606 - accuracy: 0.9524"
     ]
    },
    {
     "name": "stderr",
     "output_type": "stream",
     "text": [
      "2022-01-09 18:52:05.865770: I tensorflow/core/grappler/optimizers/custom_graph_optimizer_registry.cc:112] Plugin optimizer for device_type GPU is enabled.\n"
     ]
    },
    {
     "name": "stdout",
     "output_type": "stream",
     "text": [
      "469/469 [==============================] - 9s 16ms/step - loss: 0.1604 - accuracy: 0.9524 - val_loss: 0.0551 - val_accuracy: 0.9824\n",
      "Epoch 2/12\n",
      "469/469 [==============================] - 7s 15ms/step - loss: 0.0464 - accuracy: 0.9858 - val_loss: 0.0371 - val_accuracy: 0.9872\n",
      "Epoch 3/12\n",
      "469/469 [==============================] - 7s 16ms/step - loss: 0.0290 - accuracy: 0.9910 - val_loss: 0.0350 - val_accuracy: 0.9873\n",
      "Epoch 4/12\n",
      "469/469 [==============================] - 8s 17ms/step - loss: 0.0198 - accuracy: 0.9938 - val_loss: 0.0403 - val_accuracy: 0.9875\n",
      "Epoch 5/12\n",
      "469/469 [==============================] - 7s 14ms/step - loss: 0.0138 - accuracy: 0.9956 - val_loss: 0.0406 - val_accuracy: 0.9876\n",
      "Epoch 6/12\n",
      "469/469 [==============================] - 7s 14ms/step - loss: 0.0098 - accuracy: 0.9969 - val_loss: 0.0351 - val_accuracy: 0.9903\n",
      "Epoch 7/12\n",
      "469/469 [==============================] - 7s 15ms/step - loss: 0.0091 - accuracy: 0.9969 - val_loss: 0.0395 - val_accuracy: 0.9894\n",
      "Epoch 8/12\n",
      "469/469 [==============================] - 7s 15ms/step - loss: 0.0071 - accuracy: 0.9978 - val_loss: 0.0399 - val_accuracy: 0.9905\n",
      "Epoch 9/12\n",
      "469/469 [==============================] - 7s 14ms/step - loss: 0.0053 - accuracy: 0.9983 - val_loss: 0.0377 - val_accuracy: 0.9900\n",
      "Epoch 10/12\n",
      "469/469 [==============================] - 7s 15ms/step - loss: 0.0055 - accuracy: 0.9981 - val_loss: 0.0398 - val_accuracy: 0.9899\n",
      "Epoch 11/12\n",
      "469/469 [==============================] - 7s 14ms/step - loss: 0.0054 - accuracy: 0.9983 - val_loss: 0.0460 - val_accuracy: 0.9900\n",
      "Epoch 12/12\n",
      "469/469 [==============================] - 7s 15ms/step - loss: 0.0060 - accuracy: 0.9980 - val_loss: 0.0369 - val_accuracy: 0.9911\n",
      "CPU times: user 37.3 s, sys: 30.1 s, total: 1min 7s\n",
      "Wall time: 1min 26s\n"
     ]
    },
    {
     "data": {
      "text/plain": [
       "<keras.callbacks.History at 0x1699429d0>"
      ]
     },
     "execution_count": 22,
     "metadata": {},
     "output_type": "execute_result"
    }
   ],
   "source": [
    "%%time\n",
    "# runing the model to test the performance\n",
    "@tf.autograph.experimental.do_not_convert\n",
    "def normalize_img(image, label):\n",
    "    \"\"\"Normalizes images: `uint8` -> `float32`.\"\"\"\n",
    "    return tf.cast(image, tf.float32) / 255., label\n",
    "\n",
    "batch_size = 128\n",
    "ds_train = ds_train.map(\n",
    "    normalize_img, num_parallel_calls=tf.data.experimental.AUTOTUNE)\n",
    "ds_train = ds_train.cache()\n",
    "ds_train = ds_train.shuffle(ds_info.splits['train'].num_examples)\n",
    "ds_train = ds_train.batch(batch_size)\n",
    "ds_train = ds_train.prefetch(tf.data.experimental.AUTOTUNE)\n",
    "ds_test = ds_test.map(\n",
    "    normalize_img, num_parallel_calls=tf.data.experimental.AUTOTUNE)\n",
    "ds_test = ds_test.batch(batch_size)\n",
    "ds_test = ds_test.cache()\n",
    "ds_test = ds_test.prefetch(tf.data.experimental.AUTOTUNE)\n",
    "\n",
    "\n",
    "model = tf.keras.models.Sequential([\n",
    "  tf.keras.layers.Conv2D(32, kernel_size=(3, 3),\n",
    "                 activation='relu'),\n",
    "  tf.keras.layers.Conv2D(64, kernel_size=(3, 3),\n",
    "                 activation='relu'),\n",
    "  tf.keras.layers.MaxPooling2D(pool_size=(2, 2)),\n",
    "#   tf.keras.layers.Dropout(0.25),\n",
    "  tf.keras.layers.Flatten(),\n",
    "  tf.keras.layers.Dense(128, activation='relu'),\n",
    "#   tf.keras.layers.Dropout(0.5),\n",
    "  tf.keras.layers.Dense(10, activation='softmax')\n",
    "])\n",
    "\n",
    "model.compile(\n",
    "    loss='sparse_categorical_crossentropy',\n",
    "    optimizer=tf.keras.optimizers.Adam(0.001),\n",
    "    metrics=['accuracy'],\n",
    ")\n",
    "\n",
    "model.fit(\n",
    "    ds_train,\n",
    "    epochs=12,\n",
    "    validation_data=ds_test,\n",
    ")"
   ]
  },
  {
   "cell_type": "code",
   "execution_count": null,
   "id": "b8a77d0d",
   "metadata": {},
   "outputs": [],
   "source": []
  }
 ],
 "metadata": {
  "kernelspec": {
   "display_name": "Python 3 (ipykernel)",
   "language": "python",
   "name": "python3"
  },
  "language_info": {
   "codemirror_mode": {
    "name": "ipython",
    "version": 3
   },
   "file_extension": ".py",
   "mimetype": "text/x-python",
   "name": "python",
   "nbconvert_exporter": "python",
   "pygments_lexer": "ipython3",
   "version": "3.9.7"
  }
 },
 "nbformat": 4,
 "nbformat_minor": 5
}
